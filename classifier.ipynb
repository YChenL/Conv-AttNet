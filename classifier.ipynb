{
 "cells": [
  {
   "cell_type": "code",
   "execution_count": 1,
   "id": "5dc539b1-d831-4d02-ad2b-0e24fd597038",
   "metadata": {},
   "outputs": [],
   "source": [
    "import torch\n",
    "from models import ConvAttnNet\n",
    "from models import resnet\n",
    "from torch.utils.data import DataLoader\n",
    "from torch.utils.tensorboard import SummaryWriter\n",
    "from Datasets.datasets import MyDataset\n",
    "\n",
    "import ops.schedulers as schedulers\n",
    "import ops.trains as trains\n",
    "import ops.tests as tests\n",
    "# import ops.datasets as datasets\n",
    "\n",
    "\n",
    "import models\n",
    "import datetime\n",
    "import os\n",
    "import yaml\n",
    "import copy"
   ]
  },
  {
   "cell_type": "code",
   "execution_count": 2,
   "id": "1eb94db4-5889-4f18-9a93-2cbd1a696152",
   "metadata": {},
   "outputs": [],
   "source": [
    "dataset_train = MyDataset('E:/datasets/imagenet-mini/train/trainset.csv')\n",
    "dataset_test = MyDataset('E:/datasets/imagenet-mini/val/valset.csv')"
   ]
  },
  {
   "cell_type": "code",
   "execution_count": 3,
   "id": "f0ecfccf-decd-40dc-9ee5-a47dd7ba3874",
   "metadata": {},
   "outputs": [
    {
     "name": "stdout",
     "output_type": "stream",
     "text": [
      "Train: 34745, Test: 3923, Classes: 1000\n"
     ]
    }
   ],
   "source": [
    "dataset_train = DataLoader(dataset_train, \n",
    "                           shuffle=True, \n",
    "                           num_workers=2, \n",
    "                           batch_size=128)\n",
    "dataset_test = DataLoader(dataset_test, \n",
    "                          num_workers=2, \n",
    "                          batch_size=128)\n",
    "\n",
    "print(\"Train: %s, Test: %s, Classes: %s\" % (\n",
    "    len(dataset_train.dataset), \n",
    "    len(dataset_test.dataset), \n",
    "    1000\n",
    "))"
   ]
  },
  {
   "cell_type": "code",
   "execution_count": 2,
   "id": "3670c7db-269a-46de-9d23-b02a92fabe80",
   "metadata": {},
   "outputs": [
    {
     "name": "stderr",
     "output_type": "stream",
     "text": [
      "D:\\anaconda\\envs\\pytorch19\\lib\\site-packages\\torch\\functional.py:445: UserWarning: torch.meshgrid: in an upcoming release, it will be required to pass the indexing argument. (Triggered internally at  ..\\aten\\src\\ATen\\native\\TensorShape.cpp:2157.)\n",
      "  return _VF.meshgrid(tensors, **kwargs)  # type: ignore[attr-defined]\n"
     ]
    }
   ],
   "source": [
    "model = ConvAttnNet.dnn_34(num_classes=2)"
   ]
  },
  {
   "cell_type": "code",
   "execution_count": 4,
   "id": "f66a8b04-d7b2-4eae-bd3f-c6c09e1a11a9",
   "metadata": {},
   "outputs": [],
   "source": [
    "dataset_name = \"imagenet_mini\""
   ]
  },
  {
   "cell_type": "code",
   "execution_count": 5,
   "id": "fe4b7c4b-029a-48fd-8b48-1ce540bb104a",
   "metadata": {},
   "outputs": [
    {
     "name": "stdout",
     "output_type": "stream",
     "text": [
      "Create TensorBoard log dir:  runs\\imagenet_mini\\ConvAttnNet_34\\20220728_091433\n"
     ]
    }
   ],
   "source": [
    "current_time = datetime.datetime.now().strftime(\"%Y%m%d_%H%M%S\")\n",
    "log_dir = os.path.join(\"runs\", dataset_name, model.name, current_time)\n",
    "writer = SummaryWriter(log_dir)\n",
    "\n",
    "# with open(\"%s/config.yaml\" % log_dir, \"w\") as f:\n",
    "#     yaml.dump(args, f)\n",
    "with open(\"%s/model.log\" % log_dir, \"w\") as f:\n",
    "    f.write(repr(model))\n",
    "\n",
    "print(\"Create TensorBoard log dir: \", log_dir)"
   ]
  },
  {
   "cell_type": "code",
   "execution_count": 8,
   "id": "8476acee-9c9f-4096-8269-8d0eca311a0f",
   "metadata": {},
   "outputs": [],
   "source": [
    "optim_args = {'name': 'SGD', 'lr': 1.25e-04, 'momentum': 0.9, 'nesterov': False, 'weight_decay': 0.0005, \n",
    "              'scheduler': {'name': 'MultiStepLR', 'milestones': [60, 120, 160], 'gamma': 0.2}}\n",
    "train_args = {'warmup_epochs': 1, 'epochs': 200, 'batch_size': 128}\n",
    "val_args = {'batch_size': 256, 'n_ff': 1}"
   ]
  },
  {
   "cell_type": "code",
   "execution_count": 9,
   "id": "aef31151-3835-46b8-a6ac-04e966885447",
   "metadata": {},
   "outputs": [],
   "source": [
    "torch.cuda.set_device(0)"
   ]
  },
  {
   "cell_type": "code",
   "execution_count": 10,
   "id": "8ea2b262-7b0d-41bb-b646-5eaf695c32fe",
   "metadata": {},
   "outputs": [],
   "source": [
    "gpu = torch.cuda.is_available()\n",
    "optimizer, train_scheduler = trains.get_optimizer(model, **optim_args)\n",
    "warmup_scheduler = schedulers.WarmupScheduler(optimizer, len(dataset_train) * train_args.get(\"warmup_epochs\", 0))"
   ]
  },
  {
   "cell_type": "code",
   "execution_count": null,
   "id": "15404a01-6722-4686-a85c-95e778ec431c",
   "metadata": {
    "collapsed": true,
    "jupyter": {
     "outputs_hidden": true
    },
    "tags": []
   },
   "outputs": [
    {
     "name": "stdout",
     "output_type": "stream",
     "text": [
      "(205.81 sec/epoch) Warmup epoch: 0, Loss: 6.9413, lr: 1.250e-04\n",
      "NLL: 6.9451, Cutoffs: 0.0 %, 90.0 %, Accs: 0.178 %, 0.000 %, Uncs: 0.000 %, 100.000 %, IoUs: 0.018 %, 0.000 %, Freqs: 100.000 %, 0.000 %, Top-5: 0.561 %, Brier: 0.999, ECE: 0.052 %, ECE±: 0.052 %\n",
      "The model is warmed up: 241.63 sec \n",
      "\n",
      "(98.05 sec/epoch) Epoch: 0, Loss: 6.9229, lr: 1.250e-04\n",
      "NLL: 6.9276, Cutoffs: 0.0 %, 90.0 %, Accs: 0.102 %, 0.000 %, Uncs: 0.000 %, 100.000 %, IoUs: 0.001 %, 0.000 %, Freqs: 100.000 %, 0.000 %, Top-5: 0.433 %, Brier: 0.999, ECE: 0.126 %, ECE±: 0.126 %\n",
      "(97.92 sec/epoch) Epoch: 1, Loss: 6.9020, lr: 1.250e-04\n",
      "NLL: 6.9121, Cutoffs: 0.0 %, 90.0 %, Accs: 0.306 %, 0.000 %, Uncs: 0.000 %, 100.000 %, IoUs: 0.025 %, 0.000 %, Freqs: 100.000 %, 0.000 %, Top-5: 0.663 %, Brier: 0.999, ECE: 0.095 %, ECE±: 0.054 %\n",
      "(97.99 sec/epoch) Epoch: 2, Loss: 6.8803, lr: 1.250e-04\n",
      "NLL: 6.8942, Cutoffs: 0.0 %, 90.0 %, Accs: 0.357 %, 0.000 %, Uncs: 0.000 %, 100.000 %, IoUs: 0.053 %, 0.000 %, Freqs: 100.000 %, 0.000 %, Top-5: 1.122 %, Brier: 0.999, ECE: 0.154 %, ECE±: 0.012 %\n",
      "(97.99 sec/epoch) Epoch: 3, Loss: 6.8610, lr: 1.250e-04\n",
      "NLL: 6.8837, Cutoffs: 0.0 %, 90.0 %, Accs: 0.433 %, 0.000 %, Uncs: 0.000 %, 100.000 %, IoUs: 0.073 %, 0.000 %, Freqs: 100.000 %, 0.000 %, Top-5: 1.631 %, Brier: 0.999, ECE: 0.323 %, ECE±: 0.003 %\n",
      "(98.31 sec/epoch) Epoch: 4, Loss: 6.8421, lr: 1.250e-04\n",
      "NLL: 6.8703, Cutoffs: 0.0 %, 90.0 %, Accs: 0.510 %, 33.333 %, Uncs: 0.000 %, 99.949 %, IoUs: 0.052 %, 11.111 %, Freqs: 100.000 %, 0.076 %, Top-5: 1.784 %, Brier: 0.999, ECE: 0.340 %, ECE±: -0.027 %\n",
      "(97.91 sec/epoch) Epoch: 5, Loss: 6.8233, lr: 1.250e-04\n",
      "NLL: 6.8576, Cutoffs: 0.0 %, 90.0 %, Accs: 0.561 %, 50.000 %, Uncs: 0.000 %, 99.974 %, IoUs: 0.062 %, 25.000 %, Freqs: 100.000 %, 0.051 %, Top-5: 2.039 %, Brier: 0.999, ECE: 0.332 %, ECE±: -0.063 %\n",
      "(97.86 sec/epoch) Epoch: 6, Loss: 6.8051, lr: 1.250e-04\n",
      "NLL: 6.8461, Cutoffs: 0.0 %, 90.0 %, Accs: 0.535 %, 20.000 %, Uncs: 0.000 %, 99.897 %, IoUs: 0.040 %, 4.000 %, Freqs: 100.000 %, 0.127 %, Top-5: 2.039 %, Brier: 0.999, ECE: 0.319 %, ECE±: 0.065 %\n",
      "(97.07 sec/epoch) Epoch: 7, Loss: 6.7874, lr: 1.250e-04\n",
      "NLL: 6.8309, Cutoffs: 0.0 %, 90.0 %, Accs: 0.663 %, 33.333 %, Uncs: 0.000 %, 99.949 %, IoUs: 0.061 %, 11.111 %, Freqs: 100.000 %, 0.076 %, Top-5: 2.473 %, Brier: 0.999, ECE: 0.447 %, ECE±: -0.082 %\n",
      "(97.26 sec/epoch) Epoch: 8, Loss: 6.7688, lr: 1.250e-04\n",
      "NLL: 6.8178, Cutoffs: 0.0 %, 90.0 %, Accs: 0.688 %, 25.000 %, Uncs: 0.000 %, 99.923 %, IoUs: 0.070 %, 6.250 %, Freqs: 100.000 %, 0.102 %, Top-5: 2.447 %, Brier: 0.999, ECE: 0.337 %, ECE±: -0.086 %\n",
      "(96.93 sec/epoch) Epoch: 9, Loss: 6.7529, lr: 1.250e-04\n",
      "NLL: 6.8054, Cutoffs: 0.0 %, 90.0 %, Accs: 0.739 %, 33.333 %, Uncs: 0.000 %, 99.949 %, IoUs: 0.058 %, 11.111 %, Freqs: 100.000 %, 0.076 %, Top-5: 2.498 %, Brier: 0.999, ECE: 0.340 %, ECE±: -0.067 %\n",
      "(97.54 sec/epoch) Epoch: 10, Loss: 6.7370, lr: 1.250e-04\n",
      "NLL: 6.7966, Cutoffs: 0.0 %, 90.0 %, Accs: 0.688 %, 25.000 %, Uncs: 0.000 %, 99.923 %, IoUs: 0.072 %, 6.250 %, Freqs: 100.000 %, 0.102 %, Top-5: 2.702 %, Brier: 0.999, ECE: 0.359 %, ECE±: 0.062 %\n",
      "(97.32 sec/epoch) Epoch: 11, Loss: 6.7200, lr: 1.250e-04\n",
      "NLL: 6.7830, Cutoffs: 0.0 %, 90.0 %, Accs: 0.663 %, 33.333 %, Uncs: 0.000 %, 99.949 %, IoUs: 0.069 %, 11.111 %, Freqs: 100.000 %, 0.076 %, Top-5: 2.702 %, Brier: 0.999, ECE: 0.345 %, ECE±: 0.063 %\n",
      "(98.22 sec/epoch) Epoch: 12, Loss: 6.7044, lr: 1.250e-04\n",
      "NLL: 6.7720, Cutoffs: 0.0 %, 90.0 %, Accs: 0.816 %, 25.000 %, Uncs: 0.000 %, 99.923 %, IoUs: 0.071 %, 6.250 %, Freqs: 100.000 %, 0.102 %, Top-5: 3.059 %, Brier: 0.999, ECE: 0.382 %, ECE±: -0.079 %\n",
      "(97.77 sec/epoch) Epoch: 13, Loss: 6.6895, lr: 1.250e-04\n",
      "NLL: 6.7612, Cutoffs: 0.0 %, 90.0 %, Accs: 0.637 %, 33.333 %, Uncs: 0.000 %, 99.949 %, IoUs: 0.052 %, 11.111 %, Freqs: 100.000 %, 0.076 %, Top-5: 3.084 %, Brier: 0.999, ECE: 0.242 %, ECE±: 0.188 %\n",
      "(97.58 sec/epoch) Epoch: 14, Loss: 6.6731, lr: 1.250e-04\n",
      "NLL: 6.7533, Cutoffs: 0.0 %, 90.0 %, Accs: 0.663 %, 33.333 %, Uncs: 0.000 %, 99.949 %, IoUs: 0.056 %, 11.111 %, Freqs: 100.000 %, 0.076 %, Top-5: 3.135 %, Brier: 0.999, ECE: 0.209 %, ECE±: 0.166 %\n"
     ]
    }
   ],
   "source": [
    "trains.train(model, optimizer,\n",
    "             dataset_train, dataset_test,\n",
    "             train_scheduler, warmup_scheduler,\n",
    "             train_args, val_args, gpu,\n",
    "             writer, \n",
    "             snapshot=2, dataset_name=dataset_name, uid=current_time)  # Set `snapshot=N` to save snapshots every N epochs."
   ]
  },
  {
   "cell_type": "code",
   "execution_count": null,
   "id": "b1d7a231-938d-42b1-893d-e62a265442cf",
   "metadata": {},
   "outputs": [],
   "source": []
  }
 ],
 "metadata": {
  "kernelspec": {
   "display_name": "Python 3 (ipykernel)",
   "language": "python",
   "name": "python3"
  },
  "language_info": {
   "codemirror_mode": {
    "name": "ipython",
    "version": 3
   },
   "file_extension": ".py",
   "mimetype": "text/x-python",
   "name": "python",
   "nbconvert_exporter": "python",
   "pygments_lexer": "ipython3",
   "version": "3.8.12"
  }
 },
 "nbformat": 4,
 "nbformat_minor": 5
}
