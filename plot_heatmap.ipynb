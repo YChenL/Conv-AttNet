{
 "cells": [
  {
   "cell_type": "code",
   "execution_count": 1,
   "id": "3315ca3d-0ff1-4fa9-b980-912263f7ce61",
   "metadata": {},
   "outputs": [],
   "source": [
    "import visualize.utils\n",
    "from models import ConvAttnNet\n",
    "from models import resnet\n",
    "from models import convnext\n",
    "import models\n",
    "# import networks\n",
    "from visualize.grad_cam import GradCAM\n",
    "import visualize.utils as utils\n",
    "from visualize.plot_utils import plot_confmat, plot_gradcam\n",
    "\n",
    "import torch\n",
    "import cv2\n",
    "import pandas as pd\n",
    "import numpy as np\n",
    "import torchvision.datasets as datasets\n",
    "from torch.utils.data import DataLoader\n",
    "from Datasets.datasets import MyDataset\n",
    "import matplotlib.pyplot as plt\n",
    "import copy"
   ]
  },
  {
   "cell_type": "code",
   "execution_count": 2,
   "id": "a488b6ed-e33b-4393-bc1b-2cfcacfc23ed",
   "metadata": {},
   "outputs": [],
   "source": [
    "def show(x):\n",
    "    plt.imshow(x)\n",
    "    plt.axis('off')\n",
    "    plt.show()\n",
    "    \n",
    "def read_img(path):\n",
    "    file = cv2.imread(path)\n",
    "    file = cv2.cvtColor(file,cv2.COLOR_BGR2RGB)\n",
    "    file = file/255.\n",
    "    file = file.astype('float32')\n",
    "    return file"
   ]
  },
  {
   "cell_type": "code",
   "execution_count": 3,
   "id": "8add23a0-e3bb-4282-9e8a-295876da7669",
   "metadata": {},
   "outputs": [],
   "source": [
    "device = torch.device('cuda' if torch.cuda.is_available() else 'cpu')\n",
    "dirs_train = 'E:/datasets/project1/4s/Voxceleb/spec/sample/'\n",
    "train_set = datasets.ImageFolder(root=dirs_train, transform=utils.transform['eval'])"
   ]
  },
  {
   "cell_type": "markdown",
   "id": "49f9dec6-6138-4228-b062-bdd2014fe06f",
   "metadata": {},
   "source": [
    "### Build Model"
   ]
  },
  {
   "cell_type": "code",
   "execution_count": 4,
   "id": "56e5b8c1-27ef-403c-b790-f68add91eb74",
   "metadata": {},
   "outputs": [
    {
     "name": "stderr",
     "output_type": "stream",
     "text": [
      "D:\\anaconda\\envs\\pytorch19\\lib\\site-packages\\torch\\functional.py:445: UserWarning: torch.meshgrid: in an upcoming release, it will be required to pass the indexing argument. (Triggered internally at  ..\\aten\\src\\ATen\\native\\TensorShape.cpp:2157.)\n",
      "  return _VF.meshgrid(tensors, **kwargs)  # type: ignore[attr-defined]\n"
     ]
    }
   ],
   "source": [
    "convattnnet = ConvAttnNet.dnn_34(num_classes=1).cuda()\n",
    "resnet = resnet.dnn_50(num_classes=1).cuda()\n",
    "convnext = convnext.convnext_small(num=1).cuda()\n",
    "models.load_snapshot(ConvAttnNet, 'ENF', '20220408_100718', 3)\n",
    "models.load_snapshot(resnet, 'ENF', '20220408_102150', 3)\n",
    "models.load_snapshot(convnext, 'ENF', '20220406_205617', 3)"
   ]
  },
  {
   "cell_type": "markdown",
   "id": "f36baf1c-e31c-48bf-ad0f-8ac2b2038fd7",
   "metadata": {},
   "source": [
    "### Caculate Heat map"
   ]
  },
  {
   "cell_type": "code",
   "execution_count": 5,
   "id": "5646aac0-5886-4195-ad4a-1d7a1e3afb97",
   "metadata": {},
   "outputs": [],
   "source": [
    "def get_heat(model, dataset, sample_num):\n",
    "    img, label = dataset[sample_num]\n",
    "    img = img.unsqueeze(dim=0).to(device)\n",
    "    preds, heat = model(img)\n",
    "    heat = heat.detach().cpu().numpy()\n",
    "    return preds, heat.squeeze(axis=0)\n",
    "\n",
    "def get_weights_list(model):\n",
    "    parm={}\n",
    "    for name,parameters in model.named_parameters():\n",
    "        # print(name,':',parameters.size())\n",
    "        parm[name]=parameters.detach().cpu().numpy()\n",
    "    \n",
    "    return parm\n",
    "\n",
    "def get_cam(heat, cam_shape=(224,224)):\n",
    "    cam = np.maximum(heat, 0)\n",
    "    cam = cv2.resize(cam, cam_shape)\n",
    "    cam = cam - np.min(cam)\n",
    "    cam = cam / np.max(cam)\n",
    "    \n",
    "    return cam"
   ]
  },
  {
   "cell_type": "code",
   "execution_count": 6,
   "id": "86140459-eb41-4d08-9f96-3dd96412d3df",
   "metadata": {},
   "outputs": [],
   "source": [
    "preds, h = get_heat(convnext, train_set, 2)\n",
    "preds2, h2 = get_heat(resnet, train_set, 2)\n",
    "preds3, h3 = get_heat(alternet, train_set, 2)\n",
    "\n",
    "parm = get_weights_list(convnext)\n",
    "parm2 = get_weights_list(resnet)\n",
    "parm3 = get_weights_list(alternet)\n",
    "\n",
    "weight_convnext0 = parm['head.weight']\n",
    "weight_res1 = parm2['classifier.0.dense.weight']\n",
    "weight_alter1 = parm3['classifier.0.dense.weight']\n",
    "\n",
    "heat = np.mean(np.einsum('ni, ijk->ijk', weight_convnext0, h), axis=0)\n",
    "heat2 = np.mean(np.einsum('ni, ijk->ijk', weight_res1, h2), axis=0)\n",
    "heat3 = np.mean(np.einsum('ni, ijk->ijk', weight_alter1, h3), axis=0)\n",
    "\n",
    "cam = get_cam(heat)\n",
    "cam2 = get_cam(heat2)\n",
    "cam3 = get_cam(heat3)"
   ]
  },
  {
   "cell_type": "code",
   "execution_count": 9,
   "id": "a90fa760-c288-4cab-81cd-1beae951970c",
   "metadata": {},
   "outputs": [
    {
     "data": {
      "image/png": "[encoded data removed]",
      "text/plain": [
       "<Figure size 432x288 with 1 Axes>"
      ]
     },
     "metadata": {
      "needs_background": "light"
     },
     "output_type": "display_data"
    }
   ],
   "source": [
    "show(cam)"
   ]
  },
  {
   "cell_type": "code",
   "execution_count": null,
   "id": "ebce3dbd-9118-47e0-b836-88ffd8693fe5",
   "metadata": {},
   "outputs": [],
   "source": [
    "org_img = read_img('E:/datasets/project1/2s/spec/0dB_224/0dB_03_04_461.jpeg')\n",
    "gard_cam = plot_gradcam(org_img, cam, cam2, cam3)"
   ]
  }
 ],
 "metadata": {
  "kernelspec": {
   "display_name": "Python 3 (ipykernel)",
   "language": "python",
   "name": "python3"
  },
  "language_info": {
   "codemirror_mode": {
    "name": "ipython",
    "version": 3
   },
   "file_extension": ".py",
   "mimetype": "text/x-python",
   "name": "python",
   "nbconvert_exporter": "python",
   "pygments_lexer": "ipython3",
   "version": "3.8.12"
  }
 },
 "nbformat": 4,
 "nbformat_minor": 5
}
